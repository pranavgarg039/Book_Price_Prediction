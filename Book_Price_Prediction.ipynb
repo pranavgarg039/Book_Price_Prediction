{
 "cells": [
  {
   "cell_type": "code",
   "execution_count": 1,
   "metadata": {},
   "outputs": [],
   "source": [
    "import numpy as np \n",
    "import pandas as pd\n",
    "import matplotlib.pyplot as plt\n",
    "import seaborn as sns\n",
    "import sklearn\n",
    "\n",
    "\n",
    "%matplotlib inline"
   ]
  },
  {
   "cell_type": "code",
   "execution_count": 2,
   "metadata": {},
   "outputs": [],
   "source": [
    "df = pd.read_excel('Data_Train.xlsx')"
   ]
  },
  {
   "cell_type": "code",
   "execution_count": 3,
   "metadata": {},
   "outputs": [
    {
     "name": "stderr",
     "output_type": "stream",
     "text": [
      "C:\\Users\\Pranav\\anaconda3\\lib\\site-packages\\ipykernel_launcher.py:2: SettingWithCopyWarning: \n",
      "A value is trying to be set on a copy of a slice from a DataFrame\n",
      "\n",
      "See the caveats in the documentation: https://pandas.pydata.org/pandas-docs/stable/user_guide/indexing.html#returning-a-view-versus-a-copy\n",
      "  \n"
     ]
    }
   ],
   "source": [
    "for i in range(df.shape[0]):\n",
    "    df[\"Ratings\"][i] = df['Ratings'][i][0:2]"
   ]
  },
  {
   "cell_type": "code",
   "execution_count": 4,
   "metadata": {},
   "outputs": [
    {
     "name": "stderr",
     "output_type": "stream",
     "text": [
      "C:\\Users\\Pranav\\anaconda3\\lib\\site-packages\\ipykernel_launcher.py:3: SettingWithCopyWarning: \n",
      "A value is trying to be set on a copy of a slice from a DataFrame\n",
      "\n",
      "See the caveats in the documentation: https://pandas.pydata.org/pandas-docs/stable/user_guide/indexing.html#returning-a-view-versus-a-copy\n",
      "  This is separate from the ipykernel package so we can avoid doing imports until\n"
     ]
    }
   ],
   "source": [
    "df['Binding'] = df['Edition']\n",
    "for j in range(df.shape[0]):\n",
    "    df['Binding'][j] = df['Edition'][j][0:9]"
   ]
  },
  {
   "cell_type": "code",
   "execution_count": 5,
   "metadata": {},
   "outputs": [],
   "source": [
    "df.Binding.replace('Paperback','0', inplace = True)\n",
    "df.Binding.replace('Hardcover','1', inplace = True)\n",
    "df.Binding.replace('Mass Mark','2', inplace = True)\n",
    "df.Binding.replace(['Sheet mus','Flexiboun','Spiral-bo','Tankobon ','Cards,– 2','Cards,– 1','Cards,– 6','Loose Lea','(Kannada)','Product B','Leather B','Plastic C','Board boo','Library B','(Spanish)','Cards,– I','Cards,– 5','(German),','Perfect P','(French),'],'3', inplace = True)"
   ]
  },
  {
   "cell_type": "code",
   "execution_count": 6,
   "metadata": {},
   "outputs": [
    {
     "data": {
      "text/plain": [
       "0       0\n",
       "1       2\n",
       "2       6\n",
       "3       1\n",
       "4       7\n",
       "       ..\n",
       "6232    6\n",
       "6233    1\n",
       "6234    5\n",
       "6235    0\n",
       "6236    0\n",
       "Name: BookCategory, Length: 6237, dtype: int64"
      ]
     },
     "execution_count": 6,
     "metadata": {},
     "output_type": "execute_result"
    }
   ],
   "source": [
    "df.BookCategory.replace('Action & Adventure', '0', inplace = True)\n",
    "df.BookCategory.replace('Crime, Thriller & Mystery', '1', inplace = True)\n",
    "df.BookCategory.replace('Biographies, Diaries & True Accounts', '2', inplace = True)\n",
    "df.BookCategory.replace('Language, Linguistics & Writing', '3', inplace = True)\n",
    "df.BookCategory.replace('Comics & Mangas', '4', inplace = True)\n",
    "df.BookCategory.replace('Romance', '5', inplace = True)\n",
    "df.BookCategory.replace('Humour', '6', inplace = True)\n",
    "df.BookCategory.replace('Arts, Film & Photography', '7', inplace = True)\n",
    "df.BookCategory.replace('Computing, Internet & Digital Media', '8', inplace = True)\n",
    "df.BookCategory.replace('Sports', '9', inplace = True)\n",
    "df.BookCategory.replace('Politics', '6', inplace = True)\n",
    "df.BookCategory.astype('int64')"
   ]
  },
  {
   "cell_type": "code",
   "execution_count": 7,
   "metadata": {},
   "outputs": [
    {
     "name": "stderr",
     "output_type": "stream",
     "text": [
      "C:\\Users\\Pranav\\anaconda3\\lib\\site-packages\\ipykernel_launcher.py:3: SettingWithCopyWarning: \n",
      "A value is trying to be set on a copy of a slice from a DataFrame\n",
      "\n",
      "See the caveats in the documentation: https://pandas.pydata.org/pandas-docs/stable/user_guide/indexing.html#returning-a-view-versus-a-copy\n",
      "  This is separate from the ipykernel package so we can avoid doing imports until\n"
     ]
    }
   ],
   "source": [
    "df['Year'] = df['Edition']\n",
    "for k in range(df.shape[0]) :\n",
    "    df['Year'][k] = df['Edition'][k][-4:]"
   ]
  },
  {
   "cell_type": "code",
   "execution_count": 8,
   "metadata": {},
   "outputs": [],
   "source": [
    "df.Year.replace(['port','NTSC','mile',' set','tion','dged','rint','book'], np.random.randint(low = 1900, high = 2018), inplace = True)"
   ]
  },
  {
   "cell_type": "code",
   "execution_count": 9,
   "metadata": {},
   "outputs": [
    {
     "name": "stderr",
     "output_type": "stream",
     "text": [
      "C:\\Users\\Pranav\\anaconda3\\lib\\site-packages\\ipykernel_launcher.py:2: SettingWithCopyWarning: \n",
      "A value is trying to be set on a copy of a slice from a DataFrame\n",
      "\n",
      "See the caveats in the documentation: https://pandas.pydata.org/pandas-docs/stable/user_guide/indexing.html#returning-a-view-versus-a-copy\n",
      "  \n"
     ]
    }
   ],
   "source": [
    "for i in range(df.shape[0]) :\n",
    "    df['Reviews'][i] = df['Reviews'][i][0:3] "
   ]
  },
  {
   "cell_type": "code",
   "execution_count": 10,
   "metadata": {},
   "outputs": [
    {
     "data": {
      "text/plain": [
       "0       0\n",
       "1       0\n",
       "2       0\n",
       "3       0\n",
       "4       1\n",
       "       ..\n",
       "6232    0\n",
       "6233    0\n",
       "6234    0\n",
       "6235    0\n",
       "6236    0\n",
       "Name: Binding, Length: 6237, dtype: int64"
      ]
     },
     "execution_count": 10,
     "metadata": {},
     "output_type": "execute_result"
    }
   ],
   "source": [
    "df.Reviews.astype('float64')\n",
    "df.Binding.astype('int64')"
   ]
  },
  {
   "cell_type": "code",
   "execution_count": 11,
   "metadata": {},
   "outputs": [],
   "source": [
    "df2 = pd.get_dummies(df.Genre)\n",
    "df3 = pd.get_dummies(df.Author)"
   ]
  },
  {
   "cell_type": "code",
   "execution_count": 12,
   "metadata": {},
   "outputs": [],
   "source": [
    "df.Ratings.replace('1,','1', inplace = True)\n",
    "df.Ratings.replace('2,','2', inplace = True)\n",
    "df.Ratings.replace('3,','3', inplace = True)\n",
    "df.Ratings.replace('4,','4', inplace = True)\n",
    "df.Ratings.replace('5,','5', inplace = True)\n",
    "df.Ratings.replace('6,','6', inplace = True)\n",
    "df.Ratings.replace('7,','7', inplace = True)\n",
    "df.Ratings.replace('8,','8', inplace = True)\n",
    "df.Ratings.replace('9,','9', inplace = True)\n",
    "\n"
   ]
  },
  {
   "cell_type": "code",
   "execution_count": 13,
   "metadata": {},
   "outputs": [],
   "source": [
    "df.Ratings = df.Ratings.astype('float64')"
   ]
  },
  {
   "cell_type": "code",
   "execution_count": 14,
   "metadata": {},
   "outputs": [],
   "source": [
    "df.Reviews = df.Reviews.astype('float64')"
   ]
  },
  {
   "cell_type": "code",
   "execution_count": 15,
   "metadata": {},
   "outputs": [],
   "source": [
    "df['Product'] = df['Reviews'] * df['Ratings']"
   ]
  },
  {
   "cell_type": "code",
   "execution_count": 16,
   "metadata": {},
   "outputs": [],
   "source": [
    "new = pd.concat([df,df2,df3], axis = 1)"
   ]
  },
  {
   "cell_type": "code",
   "execution_count": 17,
   "metadata": {},
   "outputs": [],
   "source": [
    "Y = df.Price"
   ]
  },
  {
   "cell_type": "code",
   "execution_count": 18,
   "metadata": {},
   "outputs": [],
   "source": [
    "new.drop(columns = ['Title', 'Author', 'Edition','Synopsis','Genre','Price'], inplace = True) "
   ]
  },
  {
   "cell_type": "code",
   "execution_count": 19,
   "metadata": {},
   "outputs": [],
   "source": [
    "from sklearn.model_selection import train_test_split as tts\n",
    "from sklearn.ensemble import GradientBoostingRegressor as GBR"
   ]
  },
  {
   "cell_type": "code",
   "execution_count": 50,
   "metadata": {},
   "outputs": [],
   "source": [
    "trainx, testx, trainy, testy = tts(new,Y)"
   ]
  },
  {
   "cell_type": "code",
   "execution_count": 43,
   "metadata": {},
   "outputs": [],
   "source": [
    "model1 = GBR(alpha = 0.75,ccp_alpha = 0.3,max_features = 'auto', loss = 'huber', learning_rate = 0.4, max_depth = 6,subsample = 1, min_impurity_decrease = 0.001)"
   ]
  },
  {
   "cell_type": "code",
   "execution_count": 44,
   "metadata": {
    "scrolled": true
   },
   "outputs": [
    {
     "data": {
      "text/plain": [
       "GradientBoostingRegressor(alpha=0.75, ccp_alpha=0.3, criterion='friedman_mse',\n",
       "                          init=None, learning_rate=0.4, loss='huber',\n",
       "                          max_depth=6, max_features='auto', max_leaf_nodes=None,\n",
       "                          min_impurity_decrease=0.001, min_impurity_split=None,\n",
       "                          min_samples_leaf=1, min_samples_split=2,\n",
       "                          min_weight_fraction_leaf=0.0, n_estimators=100,\n",
       "                          n_iter_no_change=None, presort='deprecated',\n",
       "                          random_state=None, subsample=1, tol=0.0001,\n",
       "                          validation_fraction=0.1, verbose=0, warm_start=False)"
      ]
     },
     "execution_count": 44,
     "metadata": {},
     "output_type": "execute_result"
    }
   ],
   "source": [
    "model1.fit(trainx,trainy)"
   ]
  },
  {
   "cell_type": "code",
   "execution_count": 51,
   "metadata": {},
   "outputs": [
    {
     "data": {
      "text/plain": [
       "0.7791710487237287"
      ]
     },
     "execution_count": 51,
     "metadata": {},
     "output_type": "execute_result"
    }
   ],
   "source": [
    "train_out = model1.predict(trainx)\n",
    "score = 1 - np.sqrt(np.square(np.log10(train_out +1) - np.log10(trainy +1)).mean())\n",
    "score"
   ]
  },
  {
   "cell_type": "code",
   "execution_count": 52,
   "metadata": {},
   "outputs": [
    {
     "data": {
      "text/plain": [
       "0.7617753914416561"
      ]
     },
     "execution_count": 52,
     "metadata": {},
     "output_type": "execute_result"
    }
   ],
   "source": [
    "val_out = model1.predict(testx)\n",
    "score2 = 1 - np.sqrt(np.square(np.log10(val_out +1) - np.log10(testy +1)).mean())\n",
    "score2"
   ]
  },
  {
   "cell_type": "code",
   "execution_count": 53,
   "metadata": {},
   "outputs": [],
   "source": [
    "df = pd.read_excel('Data_Test.xlsx')\n"
   ]
  },
  {
   "cell_type": "code",
   "execution_count": 54,
   "metadata": {},
   "outputs": [],
   "source": [
    "for i in range(df.shape[0]):\n",
    "    df[\"Ratings\"][i] = df['Ratings'][i][0:2]"
   ]
  },
  {
   "cell_type": "code",
   "execution_count": 55,
   "metadata": {},
   "outputs": [],
   "source": [
    "df['Binding'] = df['Edition']\n",
    "for j in range(df.shape[0]):\n",
    "    df['Binding'][j] = df['Edition'][j][0:9]"
   ]
  },
  {
   "cell_type": "code",
   "execution_count": 56,
   "metadata": {},
   "outputs": [],
   "source": [
    "df.Binding.replace('Paperback','0', inplace = True)\n",
    "df.Binding.replace('Hardcover','1', inplace = True)\n",
    "df.Binding.replace('Mass Mark','2', inplace = True)\n",
    "df.Binding.replace(['Sheet mus', 'Cards,– A','Flexiboun','Spiral-bo','(Chinese)','Loose Lea'],'3', inplace = True)"
   ]
  },
  {
   "cell_type": "code",
   "execution_count": 57,
   "metadata": {},
   "outputs": [
    {
     "data": {
      "text/plain": [
       "0       1\n",
       "1       8\n",
       "2       5\n",
       "3       8\n",
       "4       3\n",
       "       ..\n",
       "1555    8\n",
       "1556    2\n",
       "1557    6\n",
       "1558    2\n",
       "1559    3\n",
       "Name: BookCategory, Length: 1560, dtype: int64"
      ]
     },
     "execution_count": 57,
     "metadata": {},
     "output_type": "execute_result"
    }
   ],
   "source": [
    "df.BookCategory.replace('Action & Adventure', '0', inplace = True)\n",
    "df.BookCategory.replace('Crime, Thriller & Mystery', '1', inplace = True)\n",
    "df.BookCategory.replace('Biographies, Diaries & True Accounts', '2', inplace = True)\n",
    "df.BookCategory.replace('Language, Linguistics & Writing', '3', inplace = True)\n",
    "df.BookCategory.replace('Comics & Mangas', '4', inplace = True)\n",
    "df.BookCategory.replace('Romance', '5', inplace = True)\n",
    "df.BookCategory.replace('Humour', '6', inplace = True)\n",
    "df.BookCategory.replace('Arts, Film & Photography', '7', inplace = True)\n",
    "df.BookCategory.replace('Computing, Internet & Digital Media', '8', inplace = True)\n",
    "df.BookCategory.replace('Sports', '9', inplace = True)\n",
    "df.BookCategory.replace('Politics', '6', inplace = True)\n",
    "df.BookCategory.astype('int64')"
   ]
  },
  {
   "cell_type": "code",
   "execution_count": 58,
   "metadata": {},
   "outputs": [],
   "source": [
    "df['Year'] = df['Edition']\n",
    "for k in range(df.shape[0]) :\n",
    "    df['Year'][k] = df['Edition'][k][-4:]"
   ]
  },
  {
   "cell_type": "code",
   "execution_count": 59,
   "metadata": {},
   "outputs": [],
   "source": [
    "df.Year.replace(['port','ated',' set','rint'], np.random.randint(low = 1900, high = 2018), inplace = True)"
   ]
  },
  {
   "cell_type": "code",
   "execution_count": 60,
   "metadata": {},
   "outputs": [],
   "source": [
    "for i in range(df.shape[0]) :\n",
    "    df['Reviews'][i] = df['Reviews'][i][0:3] "
   ]
  },
  {
   "cell_type": "code",
   "execution_count": 61,
   "metadata": {},
   "outputs": [],
   "source": [
    "df.Reviews.astype('float64')\n",
    "df.Binding.astype('int64')\n",
    "df2 = pd.get_dummies(df.Genre)\n",
    "df3 = pd.get_dummies(df.Author)\n",
    "df.Ratings.replace('1,','1', inplace = True)\n",
    "df.Ratings.replace('2,','2', inplace = True)\n",
    "df.Ratings.replace('3,','3', inplace = True)\n",
    "df.Ratings.replace('4,','4', inplace = True)\n",
    "df.Ratings.replace('5,','5', inplace = True)\n",
    "df.Ratings.replace('6,','6', inplace = True)\n",
    "df.Ratings.replace('7,','7', inplace = True)\n",
    "df.Ratings.replace('8,','8', inplace = True)\n",
    "df.Ratings.replace('9,','9', inplace = True)\n",
    "\n",
    "df.Ratings = df.Ratings.astype('float64')\n",
    "df.Reviews = df.Reviews.astype('float64')\n",
    "df['Product'] = df['Reviews'] * df['Ratings']\n",
    "new = pd.concat([df,df2,df3], axis = 1)\n",
    "\n"
   ]
  },
  {
   "cell_type": "code",
   "execution_count": 62,
   "metadata": {},
   "outputs": [],
   "source": [
    "new.drop(columns = ['Title', 'Author', 'Edition','Synopsis','Genre'], inplace = True) "
   ]
  },
  {
   "cell_type": "code",
   "execution_count": 63,
   "metadata": {},
   "outputs": [],
   "source": [
    "zero_data = np.zeros(shape=(1560,2575))\n",
    "df5 = pd.DataFrame(zero_data)"
   ]
  },
  {
   "cell_type": "code",
   "execution_count": 66,
   "metadata": {},
   "outputs": [],
   "source": [
    "new2 = pd.concat([new,df5], axis = 1)\n"
   ]
  },
  {
   "cell_type": "code",
   "execution_count": 67,
   "metadata": {},
   "outputs": [],
   "source": [
    "output = model1.predict(new2)\n",
    "output = pd.DataFrame(output)"
   ]
  },
  {
   "cell_type": "code",
   "execution_count": 68,
   "metadata": {},
   "outputs": [],
   "source": [
    "output.to_excel(r'C:\\Users\\Pranav\\Desktop\\Books prices\\o3.xlsx')"
   ]
  },
  {
   "cell_type": "code",
   "execution_count": null,
   "metadata": {},
   "outputs": [],
   "source": []
  },
  {
   "cell_type": "code",
   "execution_count": null,
   "metadata": {},
   "outputs": [],
   "source": []
  },
  {
   "cell_type": "code",
   "execution_count": 65,
   "metadata": {},
   "outputs": [],
   "source": []
  },
  {
   "cell_type": "code",
   "execution_count": null,
   "metadata": {},
   "outputs": [],
   "source": []
  }
 ],
 "metadata": {
  "kernelspec": {
   "display_name": "Python 3",
   "language": "python",
   "name": "python3"
  },
  "language_info": {
   "codemirror_mode": {
    "name": "ipython",
    "version": 3
   },
   "file_extension": ".py",
   "mimetype": "text/x-python",
   "name": "python",
   "nbconvert_exporter": "python",
   "pygments_lexer": "ipython3",
   "version": "3.7.6"
  }
 },
 "nbformat": 4,
 "nbformat_minor": 4
}
